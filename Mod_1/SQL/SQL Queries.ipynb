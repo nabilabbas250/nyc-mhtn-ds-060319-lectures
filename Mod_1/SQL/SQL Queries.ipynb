{
 "cells": [
  {
   "cell_type": "markdown",
   "metadata": {},
   "source": [
    "<h1 style='text-align: center'>SQL Queries</h1>"
   ]
  },
  {
   "cell_type": "markdown",
   "metadata": {},
   "source": [
    "## Getting Data From A SQL Database"
   ]
  },
  {
   "cell_type": "markdown",
   "metadata": {},
   "source": [
    "### The Structure of a SQL Query"
   ]
  },
  {
   "cell_type": "markdown",
   "metadata": {},
   "source": [
    "<img src='images/sql_statement.jpg'/>"
   ]
  },
  {
   "cell_type": "markdown",
   "metadata": {},
   "source": [
    "#### SELECT"
   ]
  },
  {
   "cell_type": "markdown",
   "metadata": {},
   "source": [
    "- What columns of data do we want? \n",
    "- Specify by column names or * (All) "
   ]
  },
  {
   "cell_type": "markdown",
   "metadata": {},
   "source": [
    "FROM\n",
    "\n",
    "- Where are we getting our data from? \n",
    "- Specify by table name or use join statement to join multiple tables"
   ]
  },
  {
   "cell_type": "markdown",
   "metadata": {},
   "source": [
    "##### JOIN "
   ]
  },
  {
   "cell_type": "markdown",
   "metadata": {},
   "source": [
    "- Use to join multiple tables \n",
    "- SELECT * FROM students join favorite_foods on students.id = favorite_foods.student_id\n",
    "- SELECT * FROM students as s join favorite_foods as f on s.id = f.student_id"
   ]
  },
  {
   "cell_type": "markdown",
   "metadata": {},
   "source": [
    "#### WHERE"
   ]
  },
  {
   "cell_type": "markdown",
   "metadata": {},
   "source": [
    "- apply some filter to the data you are querying \n",
    "- define criteria for data that should selected from the database \n",
    "- SELECT * from students WHERE age > 10 "
   ]
  },
  {
   "cell_type": "markdown",
   "metadata": {},
   "source": [
    "#### GROUP BY"
   ]
  },
  {
   "cell_type": "markdown",
   "metadata": {},
   "source": [
    "- Group columns by similar values\n",
    "- SELECT COUNT(id), city from students GROUP BY city"
   ]
  },
  {
   "cell_type": "markdown",
   "metadata": {},
   "source": [
    "#### HAVING"
   ]
  },
  {
   "cell_type": "markdown",
   "metadata": {},
   "source": [
    "- Use to apply filter AFTER you have made your initial query \n",
    "- When should we use HAVING instead of WHERE"
   ]
  },
  {
   "cell_type": "code",
   "execution_count": 1,
   "metadata": {},
   "outputs": [],
   "source": [
    "import sqlite3\n",
    "\n",
    "conn = sqlite3.connect('tutorial.db')\n",
    "c = conn.cursor()"
   ]
  },
  {
   "cell_type": "code",
   "execution_count": 3,
   "metadata": {},
   "outputs": [],
   "source": [
    "# Load students.json file\n",
    "\n",
    "#your code here\n",
    "import json\n",
    "f=open('students.json','r')\n",
    "data=json.load(f)"
   ]
  },
  {
   "cell_type": "code",
   "execution_count": 5,
   "metadata": {},
   "outputs": [
    {
     "data": {
      "text/plain": [
       "{'name': 'Sean Abu Wilson',\n",
       " 'birthdate': '02/06',\n",
       " 'siblings': 2,\n",
       " 'Birthplace': 'Birmingham, AL',\n",
       " 'yearsinnyc': 7.8,\n",
       " 'favoritefood': 'guacamole'}"
      ]
     },
     "execution_count": 5,
     "metadata": {},
     "output_type": "execute_result"
    }
   ],
   "source": [
    "data[0]"
   ]
  },
  {
   "cell_type": "code",
   "execution_count": null,
   "metadata": {},
   "outputs": [],
   "source": [
    "# iterate over the data and insert each student into the DB"
   ]
  },
  {
   "cell_type": "code",
   "execution_count": 44,
   "metadata": {},
   "outputs": [
    {
     "data": {
      "text/plain": [
       "<sqlite3.Cursor at 0x110abc6c0>"
      ]
     },
     "execution_count": 44,
     "metadata": {},
     "output_type": "execute_result"
    }
   ],
   "source": [
    "#c.execute(\"\"\"DROP TABLE students\"\"\")\n",
    "c.execute('''\n",
    "CREATE TABLE students (name TEXT, birthdate TEXT, siblings REAL, Birthplace TEXT, yearsinNYC REAL, favoritefood TEXT)''')\n",
    "\n"
   ]
  },
  {
   "cell_type": "code",
   "execution_count": 45,
   "metadata": {},
   "outputs": [],
   "source": [
    "# dynamic data entry example\n",
    "def dynamic_data_entry(person):\n",
    "    c.execute('''INSERT INTO students (name, birthdate, siblings, Birthplace, yearsinnyc, favoritefood) VALUES (?, ?, ?, ?, ?, ?)''',\n",
    "              (person['name'], person['birthdate'], person['siblings'], person['Birthplace'], \n",
    "               person['yearsinnyc'], person['favoritefood']))\n",
    "\n",
    "    conn.commit()\n",
    "\n",
    "\n",
    "# c.close\n",
    "# conn.close()\n",
    "#DROP TABLE STUDENT for extra lines"
   ]
  },
  {
   "cell_type": "code",
   "execution_count": 46,
   "metadata": {},
   "outputs": [],
   "source": [
    "for person in data:\n",
    "    dynamic_data_entry(person)\n",
    "    "
   ]
  },
  {
   "cell_type": "code",
   "execution_count": 52,
   "metadata": {
    "scrolled": true
   },
   "outputs": [
    {
     "data": {
      "text/html": [
       "<div>\n",
       "<style scoped>\n",
       "    .dataframe tbody tr th:only-of-type {\n",
       "        vertical-align: middle;\n",
       "    }\n",
       "\n",
       "    .dataframe tbody tr th {\n",
       "        vertical-align: top;\n",
       "    }\n",
       "\n",
       "    .dataframe thead th {\n",
       "        text-align: right;\n",
       "    }\n",
       "</style>\n",
       "<table border=\"1\" class=\"dataframe\">\n",
       "  <thead>\n",
       "    <tr style=\"text-align: right;\">\n",
       "      <th></th>\n",
       "      <th>name</th>\n",
       "      <th>birthdate</th>\n",
       "      <th>siblings</th>\n",
       "      <th>Birthplace</th>\n",
       "      <th>yearsinNYC</th>\n",
       "      <th>favoritefood</th>\n",
       "    </tr>\n",
       "  </thead>\n",
       "  <tbody>\n",
       "    <tr>\n",
       "      <th>0</th>\n",
       "      <td>Sean Abu Wilson</td>\n",
       "      <td>02/06</td>\n",
       "      <td>2.0</td>\n",
       "      <td>Birmingham, AL</td>\n",
       "      <td>7.8</td>\n",
       "      <td>guacamole</td>\n",
       "    </tr>\n",
       "    <tr>\n",
       "      <th>1</th>\n",
       "      <td>Tawab</td>\n",
       "      <td>04/08/1998</td>\n",
       "      <td>4.0</td>\n",
       "      <td>Afghanistan</td>\n",
       "      <td>0.5</td>\n",
       "      <td>pizza</td>\n",
       "    </tr>\n",
       "    <tr>\n",
       "      <th>2</th>\n",
       "      <td>Bridget Boakye</td>\n",
       "      <td>1990-07-13</td>\n",
       "      <td>3.0</td>\n",
       "      <td>Accra</td>\n",
       "      <td>15.0</td>\n",
       "      <td>Indian</td>\n",
       "    </tr>\n",
       "    <tr>\n",
       "      <th>3</th>\n",
       "      <td>Cristina</td>\n",
       "      <td>9/9/1990</td>\n",
       "      <td>2.0</td>\n",
       "      <td>Spain</td>\n",
       "      <td>6.0</td>\n",
       "      <td>Sushi</td>\n",
       "    </tr>\n",
       "    <tr>\n",
       "      <th>4</th>\n",
       "      <td>Danny (Haoyang) Yu</td>\n",
       "      <td>1997-03-19</td>\n",
       "      <td>2.0</td>\n",
       "      <td>1997-03-19</td>\n",
       "      <td>0.0</td>\n",
       "      <td>Galbi</td>\n",
       "    </tr>\n",
       "    <tr>\n",
       "      <th>5</th>\n",
       "      <td>Dustin_Breitner</td>\n",
       "      <td>04/15/94</td>\n",
       "      <td>2.0</td>\n",
       "      <td>New_York</td>\n",
       "      <td>3.0</td>\n",
       "      <td>Pizza</td>\n",
       "    </tr>\n",
       "    <tr>\n",
       "      <th>6</th>\n",
       "      <td>Gregory DeSantis</td>\n",
       "      <td>1987-11-23</td>\n",
       "      <td>2.0</td>\n",
       "      <td>Highland Park, NJ</td>\n",
       "      <td>13.0</td>\n",
       "      <td>Pizza</td>\n",
       "    </tr>\n",
       "    <tr>\n",
       "      <th>7</th>\n",
       "      <td>Harrison Miller</td>\n",
       "      <td>10/2/85</td>\n",
       "      <td>0.0</td>\n",
       "      <td>New Jersey</td>\n",
       "      <td>0.0</td>\n",
       "      <td>Pizza</td>\n",
       "    </tr>\n",
       "    <tr>\n",
       "      <th>8</th>\n",
       "      <td>Jeremy Owens</td>\n",
       "      <td>03/30/1990</td>\n",
       "      <td>0.0</td>\n",
       "      <td>Virginia</td>\n",
       "      <td>6.0</td>\n",
       "      <td>Avocado</td>\n",
       "    </tr>\n",
       "    <tr>\n",
       "      <th>9</th>\n",
       "      <td>Jeremy Reikes</td>\n",
       "      <td>1-/12/1995</td>\n",
       "      <td>1.0</td>\n",
       "      <td>New York City</td>\n",
       "      <td>23.0</td>\n",
       "      <td>Pizza</td>\n",
       "    </tr>\n",
       "    <tr>\n",
       "      <th>10</th>\n",
       "      <td>Johnathan Peck</td>\n",
       "      <td>02-19-1994</td>\n",
       "      <td>2.0</td>\n",
       "      <td>New York</td>\n",
       "      <td>25.0</td>\n",
       "      <td>Moms food</td>\n",
       "    </tr>\n",
       "    <tr>\n",
       "      <th>11</th>\n",
       "      <td>Minna F</td>\n",
       "      <td>11-19-1996</td>\n",
       "      <td>3.0</td>\n",
       "      <td>San Francisco</td>\n",
       "      <td>1.0</td>\n",
       "      <td>sushi</td>\n",
       "    </tr>\n",
       "    <tr>\n",
       "      <th>12</th>\n",
       "      <td>Nabil Abbas</td>\n",
       "      <td>12-07-1994</td>\n",
       "      <td>2.0</td>\n",
       "      <td>Long Island</td>\n",
       "      <td>6.0</td>\n",
       "      <td>Gyro</td>\n",
       "    </tr>\n",
       "    <tr>\n",
       "      <th>13</th>\n",
       "      <td>Natalie Del Rossi</td>\n",
       "      <td>10-23-1994</td>\n",
       "      <td>0.0</td>\n",
       "      <td>Brooklyn</td>\n",
       "      <td>18.0</td>\n",
       "      <td>pizza</td>\n",
       "    </tr>\n",
       "    <tr>\n",
       "      <th>14</th>\n",
       "      <td>Remy Canario</td>\n",
       "      <td>10-11-1988</td>\n",
       "      <td>0.0</td>\n",
       "      <td>New York</td>\n",
       "      <td>28.0</td>\n",
       "      <td>toast</td>\n",
       "    </tr>\n",
       "    <tr>\n",
       "      <th>15</th>\n",
       "      <td>Xristos Katsaros</td>\n",
       "      <td>03-24-1986</td>\n",
       "      <td>1.0</td>\n",
       "      <td>Chicago Heights, IL</td>\n",
       "      <td>3.0</td>\n",
       "      <td>Pizza</td>\n",
       "    </tr>\n",
       "  </tbody>\n",
       "</table>\n",
       "</div>"
      ],
      "text/plain": [
       "                  name   birthdate  siblings           Birthplace  yearsinNYC  \\\n",
       "0      Sean Abu Wilson       02/06       2.0       Birmingham, AL         7.8   \n",
       "1                Tawab  04/08/1998       4.0          Afghanistan         0.5   \n",
       "2       Bridget Boakye  1990-07-13       3.0                Accra        15.0   \n",
       "3             Cristina    9/9/1990       2.0                Spain         6.0   \n",
       "4   Danny (Haoyang) Yu  1997-03-19       2.0           1997-03-19         0.0   \n",
       "5      Dustin_Breitner    04/15/94       2.0             New_York         3.0   \n",
       "6     Gregory DeSantis  1987-11-23       2.0    Highland Park, NJ        13.0   \n",
       "7      Harrison Miller     10/2/85       0.0           New Jersey         0.0   \n",
       "8         Jeremy Owens  03/30/1990       0.0             Virginia         6.0   \n",
       "9        Jeremy Reikes  1-/12/1995       1.0        New York City        23.0   \n",
       "10      Johnathan Peck  02-19-1994       2.0             New York        25.0   \n",
       "11             Minna F  11-19-1996       3.0        San Francisco         1.0   \n",
       "12         Nabil Abbas  12-07-1994       2.0          Long Island         6.0   \n",
       "13   Natalie Del Rossi  10-23-1994       0.0             Brooklyn        18.0   \n",
       "14        Remy Canario  10-11-1988       0.0             New York        28.0   \n",
       "15    Xristos Katsaros  03-24-1986       1.0  Chicago Heights, IL         3.0   \n",
       "\n",
       "   favoritefood  \n",
       "0     guacamole  \n",
       "1         pizza  \n",
       "2        Indian  \n",
       "3         Sushi  \n",
       "4         Galbi  \n",
       "5         Pizza  \n",
       "6         Pizza  \n",
       "7         Pizza  \n",
       "8       Avocado  \n",
       "9         Pizza  \n",
       "10    Moms food  \n",
       "11        sushi  \n",
       "12         Gyro  \n",
       "13        pizza  \n",
       "14        toast  \n",
       "15        Pizza  "
      ]
     },
     "execution_count": 52,
     "metadata": {},
     "output_type": "execute_result"
    }
   ],
   "source": [
    "import pandas as pd \n",
    "c.execute(\"\"\"SELECT * from students\"\"\")\n",
    "d = pd.DataFrame(c.fetchall())\n",
    "d.columns = [x[0] for x in c.description]\n",
    "d"
   ]
  },
  {
   "cell_type": "code",
   "execution_count": null,
   "metadata": {},
   "outputs": [],
   "source": [
    "# dynamic data entry example\n",
    "def dynamic_data_entry():\n",
    "    c.execute(\"INSERT INTO stuffToPlot (unix, datestamp, keyword, value) VALUES (?, ?, ?, ?)\",\n",
    "          (unix, date, keyword, value))\n",
    "\n",
    "    conn.commit()\n",
    "\n",
    "# c.close\n",
    "# conn.close()"
   ]
  },
  {
   "cell_type": "markdown",
   "metadata": {},
   "source": [
    "### Questions\n",
    "1. What are the names of all of the students?\n",
    "2. Which student has the most siblings?\n",
    "3. How many students are only children?\n",
    "4. Which 3 students have lived in NYC the shortest amount of time?\n",
    "5. How many students are native New Yorkers?\n",
    "6. Do any two students have the same favorite food?\n",
    "7. Which student was born closest to the cohort's graduation date?"
   ]
  },
  {
   "cell_type": "code",
   "execution_count": 48,
   "metadata": {},
   "outputs": [
    {
     "data": {
      "text/plain": [
       "[('Sean Abu Wilson',),\n",
       " ('Tawab',),\n",
       " ('Bridget Boakye',),\n",
       " ('Cristina',),\n",
       " ('Danny (Haoyang) Yu',),\n",
       " ('Dustin_Breitner',),\n",
       " ('Gregory DeSantis',),\n",
       " ('Harrison Miller',),\n",
       " ('Jeremy Owens',),\n",
       " ('Jeremy Reikes',),\n",
       " ('Johnathan Peck',),\n",
       " ('Minna F',),\n",
       " ('Nabil Abbas',),\n",
       " ('Natalie Del Rossi',),\n",
       " ('Remy Canario',),\n",
       " ('Xristos Katsaros',)]"
      ]
     },
     "execution_count": 48,
     "metadata": {},
     "output_type": "execute_result"
    }
   ],
   "source": [
    "c.execute(\"\"\"SELECT name FROM students\"\"\").fetchall()"
   ]
  },
  {
   "cell_type": "code",
   "execution_count": 49,
   "metadata": {
    "scrolled": true
   },
   "outputs": [
    {
     "data": {
      "text/plain": [
       "[('Tawab',)]"
      ]
     },
     "execution_count": 49,
     "metadata": {},
     "output_type": "execute_result"
    }
   ],
   "source": [
    "c.execute(\"\"\"SELECT name FROM students WHERE siblings = (SELECT max(siblings) FROM students)\"\"\").fetchall()"
   ]
  },
  {
   "cell_type": "code",
   "execution_count": 68,
   "metadata": {},
   "outputs": [
    {
     "data": {
      "text/plain": [
       "[(4,)]"
      ]
     },
     "execution_count": 68,
     "metadata": {},
     "output_type": "execute_result"
    }
   ],
   "source": [
    "c.execute(\"\"\"SELECT COUNT(name) FROM students WHERE siblings = 0\"\"\").fetchall()"
   ]
  },
  {
   "cell_type": "code",
   "execution_count": 64,
   "metadata": {},
   "outputs": [
    {
     "data": {
      "text/plain": [
       "[('Danny (Haoyang) Yu',), ('Harrison Miller',)]"
      ]
     },
     "execution_count": 64,
     "metadata": {},
     "output_type": "execute_result"
    }
   ],
   "source": [
    "c.execute(\"\"\"SELECT name FROM students WHERE yearsinnyc = (SELECT min(yearsinnyc) FROM students)\"\"\").fetchall()"
   ]
  },
  {
   "cell_type": "code",
   "execution_count": null,
   "metadata": {},
   "outputs": [],
   "source": []
  }
 ],
 "metadata": {
  "kernelspec": {
   "display_name": "Python 3",
   "language": "python",
   "name": "python3"
  },
  "language_info": {
   "codemirror_mode": {
    "name": "ipython",
    "version": 3
   },
   "file_extension": ".py",
   "mimetype": "text/x-python",
   "name": "python",
   "nbconvert_exporter": "python",
   "pygments_lexer": "ipython3",
   "version": "3.7.3"
  }
 },
 "nbformat": 4,
 "nbformat_minor": 2
}
